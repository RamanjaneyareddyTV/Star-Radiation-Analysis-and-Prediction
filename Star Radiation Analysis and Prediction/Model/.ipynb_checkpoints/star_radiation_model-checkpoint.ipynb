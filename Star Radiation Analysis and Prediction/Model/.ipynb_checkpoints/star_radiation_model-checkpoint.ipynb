{
 "cells": [
  {
   "cell_type": "code",
   "execution_count": 1,
   "id": "residential-mouse",
   "metadata": {},
   "outputs": [],
   "source": [
    "import pandas as pd\n",
    "import numpy as np\n",
    "import seaborn as sns\n",
    "import matplotlib.pyplot as plt\n",
    "import warnings\n",
    "warnings.simplefilter(action='ignore', category=Warning)"
   ]
  },
  {
   "cell_type": "code",
   "execution_count": 2,
   "id": "possible-compression",
   "metadata": {},
   "outputs": [],
   "source": [
    "data=pd.read_csv(\"D:\\ML\\Star Radiation Analysis and Prediction\\Dataset\\cleandata.csv\")"
   ]
  },
  {
   "cell_type": "code",
   "execution_count": 3,
   "id": "powerful-collar",
   "metadata": {},
   "outputs": [
    {
     "data": {
      "text/html": [
       "<div>\n",
       "<style scoped>\n",
       "    .dataframe tbody tr th:only-of-type {\n",
       "        vertical-align: middle;\n",
       "    }\n",
       "\n",
       "    .dataframe tbody tr th {\n",
       "        vertical-align: top;\n",
       "    }\n",
       "\n",
       "    .dataframe thead th {\n",
       "        text-align: right;\n",
       "    }\n",
       "</style>\n",
       "<table border=\"1\" class=\"dataframe\">\n",
       "  <thead>\n",
       "    <tr style=\"text-align: right;\">\n",
       "      <th></th>\n",
       "      <th>Unnamed: 0</th>\n",
       "      <th>UNIXTime</th>\n",
       "      <th>Data</th>\n",
       "      <th>Time</th>\n",
       "      <th>Radiation</th>\n",
       "      <th>Temperature</th>\n",
       "      <th>Pressure</th>\n",
       "      <th>Humidity</th>\n",
       "      <th>WindDirection(Degrees)</th>\n",
       "      <th>Speed</th>\n",
       "      <th>TimeSunRise</th>\n",
       "      <th>TimeSunSet</th>\n",
       "      <th>Year</th>\n",
       "      <th>Month</th>\n",
       "      <th>Date</th>\n",
       "    </tr>\n",
       "  </thead>\n",
       "  <tbody>\n",
       "    <tr>\n",
       "      <th>0</th>\n",
       "      <td>0</td>\n",
       "      <td>1475229326</td>\n",
       "      <td>2016-09-29</td>\n",
       "      <td>23:55:26</td>\n",
       "      <td>1.21</td>\n",
       "      <td>48</td>\n",
       "      <td>0.46</td>\n",
       "      <td>59.0</td>\n",
       "      <td>177</td>\n",
       "      <td>5.62</td>\n",
       "      <td>06:13:00</td>\n",
       "      <td>18:13:00</td>\n",
       "      <td>2016</td>\n",
       "      <td>9</td>\n",
       "      <td>9</td>\n",
       "    </tr>\n",
       "    <tr>\n",
       "      <th>1</th>\n",
       "      <td>1</td>\n",
       "      <td>1475229023</td>\n",
       "      <td>2016-09-29</td>\n",
       "      <td>23:50:23</td>\n",
       "      <td>1.21</td>\n",
       "      <td>48</td>\n",
       "      <td>0.46</td>\n",
       "      <td>58.0</td>\n",
       "      <td>176</td>\n",
       "      <td>3.37</td>\n",
       "      <td>06:13:00</td>\n",
       "      <td>18:13:00</td>\n",
       "      <td>2016</td>\n",
       "      <td>9</td>\n",
       "      <td>9</td>\n",
       "    </tr>\n",
       "    <tr>\n",
       "      <th>2</th>\n",
       "      <td>2</td>\n",
       "      <td>1475228726</td>\n",
       "      <td>2016-09-29</td>\n",
       "      <td>23:45:26</td>\n",
       "      <td>1.23</td>\n",
       "      <td>48</td>\n",
       "      <td>0.46</td>\n",
       "      <td>57.0</td>\n",
       "      <td>158</td>\n",
       "      <td>3.37</td>\n",
       "      <td>06:13:00</td>\n",
       "      <td>18:13:00</td>\n",
       "      <td>2016</td>\n",
       "      <td>9</td>\n",
       "      <td>9</td>\n",
       "    </tr>\n",
       "    <tr>\n",
       "      <th>3</th>\n",
       "      <td>3</td>\n",
       "      <td>1475228421</td>\n",
       "      <td>2016-09-29</td>\n",
       "      <td>23:40:21</td>\n",
       "      <td>1.21</td>\n",
       "      <td>48</td>\n",
       "      <td>0.46</td>\n",
       "      <td>60.0</td>\n",
       "      <td>137</td>\n",
       "      <td>3.37</td>\n",
       "      <td>06:13:00</td>\n",
       "      <td>18:13:00</td>\n",
       "      <td>2016</td>\n",
       "      <td>9</td>\n",
       "      <td>9</td>\n",
       "    </tr>\n",
       "    <tr>\n",
       "      <th>4</th>\n",
       "      <td>4</td>\n",
       "      <td>1475228124</td>\n",
       "      <td>2016-09-29</td>\n",
       "      <td>23:35:24</td>\n",
       "      <td>1.17</td>\n",
       "      <td>48</td>\n",
       "      <td>0.46</td>\n",
       "      <td>62.0</td>\n",
       "      <td>104</td>\n",
       "      <td>5.62</td>\n",
       "      <td>06:13:00</td>\n",
       "      <td>18:13:00</td>\n",
       "      <td>2016</td>\n",
       "      <td>9</td>\n",
       "      <td>9</td>\n",
       "    </tr>\n",
       "  </tbody>\n",
       "</table>\n",
       "</div>"
      ],
      "text/plain": [
       "   Unnamed: 0    UNIXTime        Data      Time  Radiation  Temperature  \\\n",
       "0           0  1475229326  2016-09-29  23:55:26       1.21           48   \n",
       "1           1  1475229023  2016-09-29  23:50:23       1.21           48   \n",
       "2           2  1475228726  2016-09-29  23:45:26       1.23           48   \n",
       "3           3  1475228421  2016-09-29  23:40:21       1.21           48   \n",
       "4           4  1475228124  2016-09-29  23:35:24       1.17           48   \n",
       "\n",
       "   Pressure  Humidity  WindDirection(Degrees)  Speed TimeSunRise TimeSunSet  \\\n",
       "0      0.46      59.0                     177   5.62    06:13:00   18:13:00   \n",
       "1      0.46      58.0                     176   3.37    06:13:00   18:13:00   \n",
       "2      0.46      57.0                     158   3.37    06:13:00   18:13:00   \n",
       "3      0.46      60.0                     137   3.37    06:13:00   18:13:00   \n",
       "4      0.46      62.0                     104   5.62    06:13:00   18:13:00   \n",
       "\n",
       "   Year  Month  Date  \n",
       "0  2016      9     9  \n",
       "1  2016      9     9  \n",
       "2  2016      9     9  \n",
       "3  2016      9     9  \n",
       "4  2016      9     9  "
      ]
     },
     "execution_count": 3,
     "metadata": {},
     "output_type": "execute_result"
    }
   ],
   "source": [
    "data.head()"
   ]
  },
  {
   "cell_type": "markdown",
   "id": "functioning-causing",
   "metadata": {},
   "source": [
    "# Linear Regressor"
   ]
  },
  {
   "cell_type": "code",
   "execution_count": 4,
   "id": "geographic-killing",
   "metadata": {},
   "outputs": [],
   "source": [
    "feature=[\"Temperature\",\"Pressure\",\"Humidity\",\"Speed\",\"Month\",\"Date\",\"UNIXTime\"]\n",
    "X=data[feature]\n",
    "y=data[\"Radiation\"]"
   ]
  },
  {
   "cell_type": "code",
   "execution_count": 5,
   "id": "empirical-tourist",
   "metadata": {},
   "outputs": [
    {
     "data": {
      "text/plain": [
       "(32686, 7)"
      ]
     },
     "execution_count": 5,
     "metadata": {},
     "output_type": "execute_result"
    }
   ],
   "source": [
    "X.shape"
   ]
  },
  {
   "cell_type": "code",
   "execution_count": 6,
   "id": "revolutionary-studio",
   "metadata": {},
   "outputs": [
    {
     "name": "stdout",
     "output_type": "stream",
     "text": [
      "(26148, 7) (6538, 7) (26148,) (6538,)\n"
     ]
    }
   ],
   "source": [
    "from sklearn.model_selection import train_test_split\n",
    "X_train,X_test,y_train,y_test=train_test_split(X,y,test_size=0.2,random_state=1)\n",
    "print(X_train.shape,X_test.shape,y_train.shape,y_test.shape)"
   ]
  },
  {
   "cell_type": "code",
   "execution_count": 7,
   "id": "graduate-purse",
   "metadata": {},
   "outputs": [
    {
     "name": "stdout",
     "output_type": "stream",
     "text": [
      "Train Score:  0.5986616569794181\n",
      "Test Score:  0.5868852850424384\n"
     ]
    }
   ],
   "source": [
    "# applying the linear regression model\n",
    "\n",
    "from sklearn import linear_model\n",
    "reg = linear_model.LinearRegression()\n",
    "reg.fit(X_train,y_train)\n",
    "y_pred= reg.predict(X_test)\n",
    "\n",
    "print('Train Score: ', reg.score(X_train, y_train))  \n",
    "print('Test Score: ', reg.score(X_test, y_test)) "
   ]
  },
  {
   "cell_type": "code",
   "execution_count": 8,
   "id": "developing-definition",
   "metadata": {},
   "outputs": [
    {
     "name": "stdout",
     "output_type": "stream",
     "text": [
      "mean_squared_error:-  40241.02879886211\n",
      "mean_absolute_error:-  152.24339385058283\n"
     ]
    }
   ],
   "source": [
    " from sklearn.metrics import mean_squared_error, mean_absolute_error\n",
    "mse=mean_squared_error(y_pred,y_test)\n",
    "mae=mean_absolute_error(y_pred,y_test)\n",
    "print(\"mean_squared_error:- \", mse)\n",
    "print(\"mean_absolute_error:- \", mae)\n"
   ]
  },
  {
   "cell_type": "markdown",
   "id": "micro-writer",
   "metadata": {},
   "source": [
    "# Polynimial Regression"
   ]
  },
  {
   "cell_type": "code",
   "execution_count": 9,
   "id": "mental-carter",
   "metadata": {},
   "outputs": [
    {
     "name": "stdout",
     "output_type": "stream",
     "text": [
      "mean_squared_error:-  34624.7879854353\n",
      "mean_absolute_error:-  129.49385376274796\n"
     ]
    }
   ],
   "source": [
    "from sklearn.linear_model import LinearRegression  \n",
    "#lin_regs= LinearRegression()  \n",
    "#lin_regs.fit(X_train,y_train)  \n",
    "from sklearn.preprocessing import PolynomialFeatures  \n",
    "poly_regs= PolynomialFeatures(degree= 2)  \n",
    "x_poly= poly_regs.fit_transform(X_train)  \n",
    "lin_reg_2 =LinearRegression()  \n",
    "lin_reg_2.fit(x_poly, y_train) \n",
    "x_poly_t= poly_regs.fit_transform(X_test)\n",
    "y_predp= lin_reg_2.predict(x_poly_t)\n",
    "\n",
    "\n",
    "msep=mean_squared_error(y_predp,y_test)\n",
    "maep=mean_absolute_error(y_predp,y_test)\n",
    "print(\"mean_squared_error:- \", msep)\n",
    "print(\"mean_absolute_error:- \", maep)\n"
   ]
  },
  {
   "cell_type": "markdown",
   "id": "sustained-consideration",
   "metadata": {},
   "source": [
    "# RandomForestRegressor"
   ]
  },
  {
   "cell_type": "code",
   "execution_count": 10,
   "id": "identified-pointer",
   "metadata": {},
   "outputs": [
    {
     "data": {
      "text/plain": [
       "RandomForestRegressor(max_depth=7, random_state=0)"
      ]
     },
     "execution_count": 10,
     "metadata": {},
     "output_type": "execute_result"
    }
   ],
   "source": [
    "from sklearn.ensemble import RandomForestRegressor\n",
    "#from sklearn.datasets import make_regression\n",
    "#X_train, y_train = make_regression(n_features=7, n_informative=1,random_state=0, shuffle=False)\n",
    "regr = RandomForestRegressor(max_depth=7, random_state=0)\n",
    "regr.fit(X_train, y_train)"
   ]
  },
  {
   "cell_type": "code",
   "execution_count": 11,
   "id": "italian-cause",
   "metadata": {},
   "outputs": [],
   "source": [
    "y_predr= regr.predict(X_test)"
   ]
  },
  {
   "cell_type": "code",
   "execution_count": 12,
   "id": "white-pavilion",
   "metadata": {
    "scrolled": true
   },
   "outputs": [
    {
     "name": "stdout",
     "output_type": "stream",
     "text": [
      "Train Score:  0.5986616569794181\n",
      "Test Score:  0.5868852850424384\n"
     ]
    }
   ],
   "source": [
    "print('Train Score: ', reg.score(X_train, y_train))  \n",
    "print('Test Score: ', reg.score(X_test, y_test)) "
   ]
  },
  {
   "cell_type": "code",
   "execution_count": 13,
   "id": "thorough-holiday",
   "metadata": {},
   "outputs": [
    {
     "name": "stdout",
     "output_type": "stream",
     "text": [
      "mean_squared_error:-  22289.82820280287\n",
      "mean_absolute_error:-  89.06778981978863\n"
     ]
    }
   ],
   "source": [
    "from sklearn.metrics import mean_squared_error, mean_absolute_error\n",
    "mser=mean_squared_error(y_test,y_predr)\n",
    "maer=mean_absolute_error(y_test,y_predr)\n",
    "print(\"mean_squared_error:- \", mser)\n",
    "print(\"mean_absolute_error:- \", maer)"
   ]
  },
  {
   "cell_type": "code",
   "execution_count": 14,
   "id": "reverse-optics",
   "metadata": {},
   "outputs": [
    {
     "data": {
      "text/plain": [
       "<seaborn.axisgrid.FacetGrid at 0x210913a41f0>"
      ]
     },
     "execution_count": 14,
     "metadata": {},
     "output_type": "execute_result"
    },
    {
     "data": {
      "image/png": "[encoded data removed]",
      "text/plain": [
       "<Figure size 360x360 with 1 Axes>"
      ]
     },
     "metadata": {
      "needs_background": "light"
     },
     "output_type": "display_data"
    }
   ],
   "source": [
    "sns.displot((y_predr))"
   ]
  },
  {
   "cell_type": "code",
   "execution_count": 15,
   "id": "mobile-motivation",
   "metadata": {},
   "outputs": [
    {
     "name": "stdout",
     "output_type": "stream",
     "text": [
      "r2_squre for the polynomial regression 0.7711724501259694\n"
     ]
    }
   ],
   "source": [
    "sse = np.sum((y_predr-y_test)**2)\n",
    "sst=np.sum((y_test-y_test.mean())**2)\n",
    "R_square=1-(sse/sst)\n",
    "print(\"r2_squre for the polynomial regression\", R_square)"
   ]
  },
  {
   "cell_type": "code",
   "execution_count": 16,
   "id": "macro-dispute",
   "metadata": {},
   "outputs": [
    {
     "data": {
      "text/plain": [
       "<matplotlib.collections.PathCollection at 0x210b3be67f0>"
      ]
     },
     "execution_count": 16,
     "metadata": {},
     "output_type": "execute_result"
    },
    {
     "data": {
      "image/png": "[encoded data removed]",
      "text/plain": [
       "<Figure size 432x288 with 1 Axes>"
      ]
     },
     "metadata": {
      "needs_background": "light"
     },
     "output_type": "display_data"
    }
   ],
   "source": [
    "plt.scatter(y_test,y_predr)"
   ]
  },
  {
   "cell_type": "code",
   "execution_count": null,
   "id": "marine-egypt",
   "metadata": {},
   "outputs": [],
   "source": []
  },
  {
   "cell_type": "code",
   "execution_count": null,
   "id": "f70f56c5-1e11-4032-b63e-62a60d111d56",
   "metadata": {},
   "outputs": [],
   "source": []
  }
 ],
 "metadata": {
  "kernelspec": {
   "display_name": "Python 3 (ipykernel)",
   "language": "python",
   "name": "python3"
  },
  "language_info": {
   "codemirror_mode": {
    "name": "ipython",
    "version": 3
   },
   "file_extension": ".py",
   "mimetype": "text/x-python",
   "name": "python",
   "nbconvert_exporter": "python",
   "pygments_lexer": "ipython3",
   "version": "3.9.8"
  }
 },
 "nbformat": 4,
 "nbformat_minor": 5
}
